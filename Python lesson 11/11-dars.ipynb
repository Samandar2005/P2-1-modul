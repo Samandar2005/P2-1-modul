{
 "cells": [
  {
   "cell_type": "code",
   "execution_count": 1,
   "metadata": {},
   "outputs": [
    {
     "name": "stdout",
     "output_type": "stream",
     "text": [
      "3\n"
     ]
    }
   ],
   "source": [
    "print(1+2)"
   ]
  },
  {
   "cell_type": "code",
   "execution_count": 2,
   "metadata": {},
   "outputs": [
    {
     "name": "stdout",
     "output_type": "stream",
     "text": [
      "4\n"
     ]
    }
   ],
   "source": [
    "a = 1\n",
    "b = 3\n",
    "print(a+b)"
   ]
  },
  {
   "cell_type": "code",
   "execution_count": 3,
   "metadata": {},
   "outputs": [
    {
     "name": "stdout",
     "output_type": "stream",
     "text": [
      "dict_keys([1, 2, 3, 4])\n"
     ]
    }
   ],
   "source": [
    "days = {1: \"Dushanba\", 2: \"Seshanba\", 3: \"Chorshanba\", 4: \"Payshanba\"}\n",
    "print(days.keys())"
   ]
  },
  {
   "cell_type": "code",
   "execution_count": 4,
   "metadata": {},
   "outputs": [
    {
     "name": "stdout",
     "output_type": "stream",
     "text": [
      "1 Dushanba\n",
      "2 Seshanba\n",
      "3 Chorshanba\n",
      "4 Payshanba\n"
     ]
    }
   ],
   "source": [
    "for key in days.keys():\n",
    "  print(key, days[key])"
   ]
  },
  {
   "cell_type": "code",
   "execution_count": 5,
   "metadata": {},
   "outputs": [
    {
     "name": "stdout",
     "output_type": "stream",
     "text": [
      "Dushanba\n",
      "Seshanba\n",
      "Chorshanba\n",
      "Payshanba\n"
     ]
    }
   ],
   "source": [
    "for key in days.values():\n",
    "  print(key)"
   ]
  },
  {
   "cell_type": "code",
   "execution_count": 19,
   "metadata": {},
   "outputs": [
    {
     "name": "stdout",
     "output_type": "stream",
     "text": [
      "1 Dushanba\n",
      "2 Seshanba\n",
      "4 Payshanba\n"
     ]
    }
   ],
   "source": [
    "for key, val in days.items():\n",
    "  print(key, val)"
   ]
  },
  {
   "cell_type": "code",
   "execution_count": 7,
   "metadata": {},
   "outputs": [],
   "source": [
    "days.get(5)"
   ]
  },
  {
   "cell_type": "code",
   "execution_count": 10,
   "metadata": {},
   "outputs": [
    {
     "name": "stdout",
     "output_type": "stream",
     "text": [
      "{2, 3, 4, 5}\n"
     ]
    }
   ],
   "source": [
    "nums = {1,2,3,4,5}\n",
    "nums.pop()\n",
    "print(nums)"
   ]
  },
  {
   "cell_type": "code",
   "execution_count": 20,
   "metadata": {},
   "outputs": [],
   "source": [
    "newdict = {}\n",
    "newdict = newdict.fromkeys({1,2,3,4,5,6,}, {0,3})"
   ]
  },
  {
   "cell_type": "code",
   "execution_count": 40,
   "metadata": {},
   "outputs": [
    {
     "name": "stdout",
     "output_type": "stream",
     "text": [
      "Uzbek\t\tEnglish\n",
      "------------------------\n",
      "Dushanba\tMonday\n",
      "Seshanba\tTuesday\n",
      "Chorshanba\tWednesday\n",
      "Payshanba\tThursday\n",
      "Friday\tJuma\n",
      "Saturday\tShanba\n",
      "Yakshanba\tSunday\n"
     ]
    }
   ],
   "source": [
    "days = {\"Dushanba\": \"Monday\", \"Seshanba\": \"Tuesday\", \"Chorshanba\": \"Wednesday\", \"Payshanba\": \"Thursday\", \"Friday\": \"Juma\", \"Saturday\": \"Shanba\", \"Yakshanba\": \"Sunday\"}\n",
    "print(f\"Uzbek\\t\\tEnglish\")\n",
    "print(\"-\"*24)\n",
    "for key, val in days.items():\n",
    "  print(f\"{key}\\t{val}\")"
   ]
  },
  {
   "cell_type": "code",
   "execution_count": 64,
   "metadata": {},
   "outputs": [
    {
     "name": "stdout",
     "output_type": "stream",
     "text": [
      "------------------------\n",
      "Uz\t\t  Eng\n",
      "------------------------\n",
      "DUSHANBA\tMONDAY\n",
      "SESHANBA\tTUESDAY\n",
      "CHORSHANBA\tWEDNESDAY\n",
      "PAYSHANBA\tTHURSDAY\n",
      "FRIDAY\tMONDAY\n",
      "SATURDAY\tSHANBA\n",
      "YAKSHANBA\tSUNDAY\n"
     ]
    }
   ],
   "source": [
    "days = {\"Dushanba\": \"Monday\", \"Seshanba\": \"Tuesday\", \"Chorshanba\": \"Wednesday\", \"Payshanba\": \n",
    "\"Thursday\", \"Friday\": \"Juma\", \"Saturday\": \"Shanba\", \"Yakshanba\": \"Sunday\"}\n",
    "print(\"-\"*24)\n",
    "print(f\"Uz\\t\\t  Eng\")\n",
    "print(\"-\"*24)\n",
    "for item in days:\n",
    "  print(f\"{item.upper()}\\t{days[item].upper()}\")"
   ]
  },
  {
   "cell_type": "code",
   "execution_count": 42,
   "metadata": {},
   "outputs": [
    {
     "name": "stdout",
     "output_type": "stream",
     "text": [
      "------------------------\n",
      "English\t\t Uzbek\n",
      "------------------------\n",
      "Monday\t\t Dushanba\n",
      "book\t\t kitob\n",
      "pen\t\t ruchka\n",
      "laptop\t\t noutbuk\n"
     ]
    }
   ],
   "source": [
    "en_uz = {\"Monday\": \"Dushanba\", \"book\": \"kitob\", \"pen\": \"ruchka\", \"laptop\": \"noutbuk\"}\n",
    "print('-'*24)\n",
    "print(\"English\\t\\t Uzbek\")\n",
    "print('-'*24)\n",
    "for item in en_uz:\n",
    "    print(f\"{item}\\t\\t {en_uz[item]}\")"
   ]
  },
  {
   "cell_type": "code",
   "execution_count": null,
   "metadata": {},
   "outputs": [],
   "source": []
  }
 ],
 "metadata": {
  "interpreter": {
   "hash": "5e4e6109b22378365e9a11d476f72fe1a41e48688d3f084c98291d858cd98f09"
  },
  "kernelspec": {
   "display_name": "Python 3.10.1 64-bit",
   "language": "python",
   "name": "python3"
  },
  "language_info": {
   "codemirror_mode": {
    "name": "ipython",
    "version": 3
   },
   "file_extension": ".py",
   "mimetype": "text/x-python",
   "name": "python",
   "nbconvert_exporter": "python",
   "pygments_lexer": "ipython3",
   "version": "3.10.1"
  },
  "orig_nbformat": 4
 },
 "nbformat": 4,
 "nbformat_minor": 2
}
