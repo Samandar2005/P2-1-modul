{
 "cells": [
  {
   "cell_type": "code",
   "execution_count": 33,
   "metadata": {},
   "outputs": [],
   "source": [
    "def default_students():\n",
    "    def_sts = [\n",
    "            (1, \"Samsung\", \"Galaxiy A12\", 4, 6.5, 128),\n",
    "            (2, \"Samsung\", \"Galaxiy A52\", 4, 6.5, 64),\n",
    "            (3, \"Samsung\", \"Galaxiy S21\", 8, 6.2, 128),\n",
    "            (4, \"Samsung\", \"Galaxiy S20\", 6, 6.5, 128),\n",
    "            (5, \"Samsung\", \"Galaxiy A12\", 6, 6.5, 32),\n",
    "            (6, \"Xiomi\", \"Redmi 9C\", 3, 6.5, 68),\n",
    "            (7, \"Samsung\", \"Galaxiy A32\", 4, 6.4, 64),\n",
    "            (8, \"Samsung\", \"Galaxiy A22\", 4, 6.5, 64),\n",
    "            (9, \"iPhone\", \"13 Pro Max\", 6, 6.7, 128),\n",
    "            (10, \"Samsung\", \"Galaxiy A02\", 2, 6.5, 32),\n",
    "            (11, \"Samsung\", \"Galaxiy S21\", 12, 6.8, 256),\n",
    "            (12, \"Samsung\", \"Galaxiy M12\", 3, 6.5, 32),\n",
    "            (13, \"Apple\", \"iPhone 11\", 4, 6.1, 128),\n",
    "            (14, \"iPhone\", \"12 Pro Max\", 6, 6.7, 256),\n",
    "            (15, \"Xiomi\", \"M11 Lite\", 8, 6.55, 256),\n",
    "            (16, \"Xiomi\", \"Poco X3 Pro\", 8, 6.7, 256),\n",
    "        ]\n",
    "    return def_sts"
   ]
  },
  {
   "cell_type": "code",
   "execution_count": 26,
   "metadata": {},
   "outputs": [],
   "source": [
    "def print_students(talabalar):\n",
    "    print(\"Id |\\tKompaniya|\\tRusum\\t|\\tO.Xotira | Dyuym | Xotira hajmi\")\n",
    "    print('-'*60)\n",
    "\n",
    "    for student in talabalar:\n",
    "        for item in student:\n",
    "            print(f'{item}', end='\\t')\n",
    "        print()"
   ]
  },
  {
   "cell_type": "code",
   "execution_count": 27,
   "metadata": {},
   "outputs": [],
   "source": [
    "current_page = 0\n",
    "def make_parts(talabalar):\n",
    "    global current_page\n",
    "    current_page = 1\n",
    "    n = len(talabalar)\n",
    "    k = 10\n",
    "    parts_count = n // k\n",
    "    print_students(talabalar[0:k+1])\n",
    "    i = 0\n",
    "    print(\"Qismlar: \")\n",
    "    print('<', end=' ')\n",
    "    while i < parts_count:\n",
    "        i += 1\n",
    "        print(f'{i}', end=' ')\n",
    "    if parts_count * k < n:\n",
    "        parts_count += 1\n",
    "        i += 1\n",
    "        print(f'{i}', end=' ')\n",
    "    print('>')\n",
    "\n",
    "    target = '1'\n",
    "    while target != 0:\n",
    "        target = input(\"O'tmoqchi bo'lgan qismingizni kiriting\")\n",
    "        if target.isdigit():\n",
    "            target = int(target)\n",
    "            if target == current_page:\n",
    "                pass\n",
    "            else:\n",
    "                print_students(talabalar[(target-1)*k:target*k])\n",
    "                current_page = target\n",
    "        else:\n",
    "            if target == '>' and current_page < parts_count:\n",
    "                target = current_page + 1\n",
    "                current_page = target\n",
    "                print_students(talabalar[(target-1)*k:target*k])\n",
    "            elif target == '<' and current_page > 1:\n",
    "                target = current_page -  1\n",
    "                current_page = target\n",
    "                print_students(talabalar[(target-1)*k:target*k])"
   ]
  },
  {
   "cell_type": "code",
   "execution_count": 37,
   "metadata": {},
   "outputs": [],
   "source": [
    "def create_students(n):\n",
    "  talabalar = []\n",
    "  for id in range(n):\n",
    "    id += 1\n",
    "    komp = input(\"tKompaniya: \")\n",
    "    model = input(\"tRusum: \")\n",
    "    o_xotira = int(input(\"O.Xotira: \"))\n",
    "    ekran = float(input(\"Dyuym: \"))\n",
    "    xotira = int(input(\"Xotira: \")) \n",
    "\n",
    "    talaba = (id, komp, model, o_xotira, ekran, xotira) \n",
    "    talabalar.append(talaba)   \n",
    "  return talabalar "
   ]
  },
  {
   "cell_type": "code",
   "execution_count": null,
   "metadata": {},
   "outputs": [],
   "source": [
    "students = default_students()\n",
    "#students = create_students(2)\n",
    "make_parts(students)\n"
   ]
  },
  {
   "cell_type": "code",
   "execution_count": 15,
   "metadata": {},
   "outputs": [],
   "source": [
    "def FilterByFamIsim():\n",
    "  filtered = []\n",
    "  part_text = input(\"Enter the text: \")\n",
    "  part_text = part_text.lower()\n",
    "  for talaba in students:\n",
    "    if talaba[1].lower().find(part_text) != -1 or \\\n",
    "       talaba[2].lower().find(part_text) != -1:\n",
    "        filtered.append(talaba)\n",
    "  return filtered  "
   ]
  },
  {
   "cell_type": "code",
   "execution_count": 16,
   "metadata": {},
   "outputs": [],
   "source": [
    "def FilterByAge():\n",
    "  filtered = []\n",
    "\n",
    "  from_age = int(input(\"From O.Xotira:  \"))\n",
    "  to_age = int(input(\"To O.Xotira:  \"))\n",
    "  for talaba in students:\n",
    "    if from_age <= talaba[3] and talaba[3] <= to_age:\n",
    "        filtered.append(talaba)\n",
    "  return filtered"
   ]
  },
  {
   "cell_type": "code",
   "execution_count": 17,
   "metadata": {},
   "outputs": [],
   "source": [
    "def FilterByLevel():\n",
    "  filtered = []\n",
    "  level = int(input(\"Duyum: \"))\n",
    "  for talaba in students:\n",
    "    if talaba[4] == level:\n",
    "        filtered.append(talaba)\n",
    "  return filtered "
   ]
  },
  {
   "cell_type": "code",
   "execution_count": 18,
   "metadata": {},
   "outputs": [],
   "source": [
    "def FilterByMark():\n",
    "  filtered = []\n",
    "  from_makr = int(input(\"From Xotira xajmi:  \"))\n",
    "  to_makr = int(input(\"To Xotira xajmi:  \"))\n",
    "  for talaba in students:\n",
    "    if from_makr <= talaba[3] and talaba[3] <= to_makr:\n",
    "        filtered.append(talaba)\n",
    "  return filtered  "
   ]
  },
  {
   "cell_type": "code",
   "execution_count": null,
   "metadata": {},
   "outputs": [],
   "source": [
    "filterid_by_fam = FilterByFamIsim()\n",
    "filterid_by_mark = FilterByMark()\n",
    "union_list = list(set(filterid_by_fam + filterid_by_mark)) \n",
    "make_parts(union_list)"
   ]
  }
 ],
 "metadata": {
  "interpreter": {
   "hash": "5e4e6109b22378365e9a11d476f72fe1a41e48688d3f084c98291d858cd98f09"
  },
  "kernelspec": {
   "display_name": "Python 3.10.1 64-bit",
   "language": "python",
   "name": "python3"
  },
  "language_info": {
   "codemirror_mode": {
    "name": "ipython",
    "version": 3
   },
   "file_extension": ".py",
   "mimetype": "text/x-python",
   "name": "python",
   "nbconvert_exporter": "python",
   "pygments_lexer": "ipython3",
   "version": "3.10.1"
  },
  "orig_nbformat": 4
 },
 "nbformat": 4,
 "nbformat_minor": 2
}
