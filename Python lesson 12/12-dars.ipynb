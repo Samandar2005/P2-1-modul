{
 "cells": [
  {
   "cell_type": "code",
   "execution_count": 13,
   "metadata": {},
   "outputs": [],
   "source": [
    "def default_students():\n",
    "    def_sts = [\n",
    "            (1, \"Fayziyev\", \"Abdulhay\", 16, 4, 86),\n",
    "            (3, \"Bo'tayorov\", \"Karamatulloh\", 21, 2, 78),\n",
    "            (4, \"Najmiddinov\", \"Shag'zod\", 23, 3, 77),\n",
    "            (5, \"Amirqulov\", \"Amirqul\", 22, 4, 89),\n",
    "            (6, \"Doniyorov\", \"Mahmudjon\", 19, 1, 56),\n",
    "            (7, \"Islomov\", \"Jaxongir\", 16, 2, 86),\n",
    "            (8, \"Qobiljon\", \"Hudoyberdiyev\", 25, 3, 67),\n",
    "            (9, \"Obidov\", \"Khusniddin\", 16, 4, 78),\n",
    "            (10, \"Zohidov\", \"Begzod\", 23, 1, 77),\n",
    "            (11, \"Mirzaqulov\", \"Begzod\", 21, 2, 89),\n",
    "            (12, \"Salayev\", \"Zufar\", 23, 3, 56),\n",
    "            (13, \"Rahmatov\", \"Shaxboz\", 22, 4, 86),\n",
    "            (14, \"Azizbek\", \"Abdurahmonov\", 19, 1, 67),\n",
    "            (15, \"Ubaydullayev\", \"Javlonbek\", 16, 2, 78),\n",
    "            (16, \"Маматисаков\", \"Бахром\", 25, 3, 77),\n",
    "            (17, \"Sultonov\", \"Jasur\", 16, 4, 89),\n",
    "            (18, \"Samandar\", \"Bo'riyev\", 23, 1, 56),\n",
    "            (19, \"Muzaffar\", \"Muhibullayev\", 21, 2, 86),\n",
    "            (20, \"Musayev\", \"Abror\", 23, 3, 67),\n",
    "            (21, \"Ikromov\", \"Shaxzod\", 22, 4, 78),\n",
    "            (22, \"Dadaxanov\", \"Abdusattor\", 19, 1, 77),\n",
    "            (23, \"Begzod\", \"Nasirov\", 16, 2, 89),\n",
    "            (24, \"Nurilloh\", \"Anvarjonov\", 25, 3, 56)\n",
    "        ]\n",
    "    return def_sts"
   ]
  },
  {
   "cell_type": "code",
   "execution_count": 14,
   "metadata": {},
   "outputs": [],
   "source": [
    "def print_students(talabalar):\n",
    "    print(\"Id |\\tFamiliya|\\tIsm\\t|\\tYosh | Level | Mark\")\n",
    "    print('-'*60)\n",
    "\n",
    "    for student in talabalar:\n",
    "        for item in student:\n",
    "            print(f'{item}', end='\\t')\n",
    "        print()"
   ]
  },
  {
   "cell_type": "code",
   "execution_count": 15,
   "metadata": {},
   "outputs": [],
   "source": [
    "current_page = 0\n",
    "def make_parts(talabalar):\n",
    "    global current_page\n",
    "    current_page = 1\n",
    "    n = len(talabalar)\n",
    "    k = 10\n",
    "    parts_count = n // k\n",
    "    print_students(talabalar[0:k+1])\n",
    "    i = 0\n",
    "    print(\"Qismlar: \")\n",
    "    print('<', end=' ')\n",
    "    while i < parts_count:\n",
    "        i += 1\n",
    "        print(f'{i}', end=' ')\n",
    "    if parts_count * k < n:\n",
    "        parts_count += 1\n",
    "        i += 1\n",
    "        print(f'{i}', end=' ')\n",
    "    print('>')\n",
    "\n",
    "    target = '1'\n",
    "    while target != 0:\n",
    "        target = input(\"O'tmoqchi bo'lgan qismingizni kiriting\")\n",
    "        if target.isdigit():\n",
    "            target = int(target)\n",
    "            if target == current_page:\n",
    "                pass\n",
    "            else:\n",
    "                print_students(talabalar[(target-1)*k:target*k])\n",
    "                current_page = target\n",
    "        else:\n",
    "            if target == '>' and current_page < parts_count:\n",
    "                target = current_page + 1\n",
    "                current_page = target\n",
    "                print_students(talabalar[(target-1)*k:target*k])\n",
    "            elif target == '<' and current_page > 1:\n",
    "                target = current_page -  1\n",
    "                current_page = target\n",
    "                print_students(talabalar[(target-1)*k:target*k])"
   ]
  },
  {
   "cell_type": "code",
   "execution_count": 17,
   "metadata": {},
   "outputs": [],
   "source": [
    "def create_students(n):\n",
    "  talabalar = []\n",
    "  for id in range(n):\n",
    "    id += 1\n",
    "    fam = input(\"Familiya: \")\n",
    "    isim = input(\"Isim: \")\n",
    "    yosh = int(input(\"Yosh: \"))\n",
    "    level = int(input(\"Level: \"))\n",
    "    mark = int(input(\"Mark: \")) \n",
    "\n",
    "    talaba = (id, fam, isim, yosh, level, mark) \n",
    "    talabalar.append(talaba)   \n",
    "  return talabalar  \n"
   ]
  },
  {
   "cell_type": "code",
   "execution_count": 18,
   "metadata": {},
   "outputs": [
    {
     "name": "stdout",
     "output_type": "stream",
     "text": [
      "Id |\tFamiliya|\tIsm\t|\tYosh | Level | Mark\n",
      "------------------------------------------------------------\n",
      "1\tFayziyev\tAbdulhay\t16\t4\t86\t\n",
      "3\tBo'tayorov\tKaramatulloh\t21\t2\t78\t\n",
      "4\tNajmiddinov\tShag'zod\t23\t3\t77\t\n",
      "5\tAmirqulov\tAmirqul\t22\t4\t89\t\n",
      "6\tDoniyorov\tMahmudjon\t19\t1\t56\t\n",
      "7\tIslomov\tJaxongir\t16\t2\t86\t\n",
      "8\tQobiljon\tHudoyberdiyev\t25\t3\t67\t\n",
      "9\tObidov\tKhusniddin\t16\t4\t78\t\n",
      "10\tZohidov\tBegzod\t23\t1\t77\t\n",
      "11\tMirzaqulov\tBegzod\t21\t2\t89\t\n",
      "12\tSalayev\tZufar\t23\t3\t56\t\n",
      "Qismlar: \n",
      "< 1 2 3 >\n",
      "Id |\tFamiliya|\tIsm\t|\tYosh | Level | Mark\n",
      "------------------------------------------------------------\n"
     ]
    }
   ],
   "source": [
    "students = default_students()\n",
    "#students = create_students(2)\n",
    "make_parts(students)"
   ]
  },
  {
   "cell_type": "code",
   "execution_count": 19,
   "metadata": {},
   "outputs": [],
   "source": [
    "def FilterByFamIsim():\n",
    "  filtered = []\n",
    "  part_text = input(\"Enter the text: \")\n",
    "  part_text = part_text.lower()\n",
    "  for talaba in students:\n",
    "    if talaba[1].lower().find(part_text) != -1 or \\\n",
    "       talaba[2].lower().find(part_text) != -1:\n",
    "        filtered.append(talaba)\n",
    "  return filtered  \n",
    "  "
   ]
  },
  {
   "cell_type": "code",
   "execution_count": 20,
   "metadata": {},
   "outputs": [],
   "source": [
    "def FilterByAge():\n",
    "  filtered = []\n",
    "\n",
    "  from_age = int(input(\"From age:  \"))\n",
    "  to_age = int(input(\"To age:  \"))\n",
    "  for talaba in students:\n",
    "    if from_age <= talaba[3] and talaba[3] <= to_age:\n",
    "        filtered.append(talaba)\n",
    "  return filtered  "
   ]
  },
  {
   "cell_type": "code",
   "execution_count": 21,
   "metadata": {},
   "outputs": [],
   "source": [
    "def FilterByLevel():\n",
    "  filtered = []\n",
    "  level = int(input(\"Level: \"))\n",
    "  for talaba in students:\n",
    "    if talaba[4] == level:\n",
    "        filtered.append(talaba)\n",
    "  return filtered "
   ]
  },
  {
   "cell_type": "code",
   "execution_count": 24,
   "metadata": {},
   "outputs": [],
   "source": [
    "def FilterByMark():\n",
    "  filtered = []\n",
    "  from_makr = int(input(\"From makr:  \"))\n",
    "  to_makr = int(input(\"To mark:  \"))\n",
    "  for talaba in students:\n",
    "    if from_makr <= talaba[3] and talaba[3] <= to_makr:\n",
    "        filtered.append(talaba)\n",
    "  return filtered  "
   ]
  },
  {
   "cell_type": "code",
   "execution_count": 31,
   "metadata": {},
   "outputs": [
    {
     "name": "stdout",
     "output_type": "stream",
     "text": [
      "Id |\tFamiliya|\tIsm\t|\tYosh | Level | Mark\n",
      "------------------------------------------------------------\n",
      "21\tIkromov\tShaxzod\t22\t4\t78\t\n",
      "7\tIslomov\tJaxongir\t16\t2\t86\t\n",
      "Qismlar: \n",
      "< 1 >\n",
      "Id |\tFamiliya|\tIsm\t|\tYosh | Level | Mark\n",
      "------------------------------------------------------------\n"
     ]
    }
   ],
   "source": [
    "filterid_by_fam = FilterByFamIsim()\n",
    "filterid_by_mark = FilterByMark()\n",
    "union_list = list(set(filterid_by_fam + filterid_by_mark)) \n",
    "make_parts(union_list)"
   ]
  },
  {
   "cell_type": "code",
   "execution_count": null,
   "metadata": {},
   "outputs": [],
   "source": [
    "filterid_by_fam = FilterByFamIsim()\n",
    "filterid_by_level = FilterByLevel()\n",
    "set_by_fam = set(filterid_by_fam)\n",
    "set_by_level = set(filterid_by_level)\n",
    "\n",
    "intersec= set_by_fam.intersection(set_by_level)\n",
    "make_parts(list(intersec))"
   ]
  },
  {
   "cell_type": "code",
   "execution_count": 29,
   "metadata": {},
   "outputs": [
    {
     "name": "stdout",
     "output_type": "stream",
     "text": [
      "3 Bo'tayorov Karamatulloh\n"
     ]
    }
   ],
   "source": [
    "def dict_students(students):\n",
    "  talabalar = []\n",
    "  keys = [\"id\",\"fam\", \"ism\", \"yosh\", \"level\", \"mark\"]\n",
    "  for talaba in students:\n",
    "    talabalar.append(\n",
    "      {key: item for key, item in zip(keys, talaba)}\n",
    "    )\n",
    "  return talabalar \n",
    "talabalar_dict = dict_students(students)   \n",
    "print(talabalar_dict [1][\"id\"], end=' ')\n",
    "print(talabalar_dict [1][\"fam\"], end=' ')\n",
    "print(talabalar_dict [1][\"ism\"])"
   ]
  },
  {
   "cell_type": "code",
   "execution_count": 60,
   "metadata": {},
   "outputs": [
    {
     "name": "stdout",
     "output_type": "stream",
     "text": [
      "1 one\n",
      "2 two\n",
      "3 three\n",
      "4 four\n"
     ]
    }
   ],
   "source": [
    "for num, letter in zip([1, 2, 3, 4], ['one', 'two', 'three', 'four']):\n",
    "  print(num, letter)\n"
   ]
  }
 ],
 "metadata": {
  "interpreter": {
   "hash": "5e4e6109b22378365e9a11d476f72fe1a41e48688d3f084c98291d858cd98f09"
  },
  "kernelspec": {
   "display_name": "Python 3.10.1 64-bit",
   "language": "python",
   "name": "python3"
  },
  "language_info": {
   "codemirror_mode": {
    "name": "ipython",
    "version": 3
   },
   "file_extension": ".py",
   "mimetype": "text/x-python",
   "name": "python",
   "nbconvert_exporter": "python",
   "pygments_lexer": "ipython3",
   "version": "3.10.1"
  },
  "orig_nbformat": 4
 },
 "nbformat": 4,
 "nbformat_minor": 2
}
